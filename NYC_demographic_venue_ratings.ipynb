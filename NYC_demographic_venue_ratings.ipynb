{
 "cells": [
  {
   "cell_type": "markdown",
   "metadata": {},
   "source": [
    "cluster based on, ratings, demographic (income, population count,etc)\n",
    "classify for ratings?"
   ]
  },
  {
   "cell_type": "markdown",
   "metadata": {},
   "source": [
    "https://beautiful-soup-4.readthedocs.io/en/latest/\n"
   ]
  },
  {
   "cell_type": "code",
   "execution_count": 1,
   "metadata": {},
   "outputs": [],
   "source": [
    "from bs4 import BeautifulSoup\n",
    "import urllib.request\n",
    "import pandas as pd"
   ]
  },
  {
   "cell_type": "code",
   "execution_count": 89,
   "metadata": {},
   "outputs": [],
   "source": [
    "website='https://en.wikipedia.org/wiki/Demographics_of_New_York_City'\n",
    "file=urllib.request.urlopen(website);\n",
    "htmlContent=file.read().decode('utf8')\n",
    "file.close()\n",
    "\n",
    "soup=BeautifulSoup(htmlContent,'html.parser')\n",
    "tables=soup.find_all('table');\n",
    "# print(tables) "
   ]
  },
  {
   "cell_type": "code",
   "execution_count": 36,
   "metadata": {},
   "outputs": [],
   "source": [
    "def textOnly(string):\n",
    "    return string.rstrip().lstrip();"
   ]
  },
  {
   "cell_type": "code",
   "execution_count": 65,
   "metadata": {},
   "outputs": [
    {
     "name": "stdout",
     "output_type": "stream",
     "text": [
      "{'Borough': [], 'County': [], 'Estimate (2019)[12]': [], 'billions(US$)[13]': [], 'per capita(US$)': [], 'square miles': [], 'squarekm': [], 'persons / sq. mi': [], 'persons /km2\\n': []}\n"
     ]
    }
   ],
   "source": [
    "populationDict={}\n",
    "\n",
    "firstTable=tables[0]\n",
    "columnNames=firstTable.findAll('th')\n",
    "for i in range(6,15):\n",
    "    populationDict[columnNames[i].text]=[]\n",
    "\n",
    "print(populationDict)"
   ]
  },
  {
   "cell_type": "code",
   "execution_count": 69,
   "metadata": {},
   "outputs": [
    {
     "name": "stdout",
     "output_type": "stream",
     "text": [
      "{'Borough': ['The Bronx', 'Brooklyn', 'Manhattan', 'Queens', 'Staten Island'], 'County': ['Bronx', 'Kings', 'New York', 'Queens', 'Richmond'], 'Estimate (2019)[12]': ['1,418,207', '2,559,903', '1,628,706', '2,253,858', '476,143'], 'billions(US$)[13]': ['42.695', '91.559', '600.244', '93.310', '14.514'], 'per capita(US$)': ['30,100', '35,800', '368,500', '41,400', '30,500'], 'square miles': ['42.10', '70.82', '22.83', '108.53', '58.37'], 'squarekm': ['109.04', '183.42', '59.13', '281.09', '151.18'], 'persons / sq. mi': ['33,867', '36,147', '71,341', '20,767', '8,157'], 'persons /km2\\n': ['13,006', '13,957', '27,544', '8,018', '3,150']}\n"
     ]
    }
   ],
   "source": [
    "rows=firstTable.findAll('tr')\n",
    "\n",
    "for i in range(3,8):\n",
    "    row=rows[i].findAll('td')\n",
    "    for value,s in zip(row,list(populationDict.keys())):\n",
    "        populationDict[s].append(textOnly(value.text));\n",
    "print(populationDict)"
   ]
  },
  {
   "cell_type": "code",
   "execution_count": 92,
   "metadata": {},
   "outputs": [
    {
     "data": {
      "text/html": [
       "<div>\n",
       "<style scoped>\n",
       "    .dataframe tbody tr th:only-of-type {\n",
       "        vertical-align: middle;\n",
       "    }\n",
       "\n",
       "    .dataframe tbody tr th {\n",
       "        vertical-align: top;\n",
       "    }\n",
       "\n",
       "    .dataframe thead th {\n",
       "        text-align: right;\n",
       "    }\n",
       "</style>\n",
       "<table border=\"1\" class=\"dataframe\">\n",
       "  <thead>\n",
       "    <tr style=\"text-align: right;\">\n",
       "      <th></th>\n",
       "      <th>Borough</th>\n",
       "      <th>Population</th>\n",
       "      <th>Density (persons / sq. mi)</th>\n",
       "    </tr>\n",
       "  </thead>\n",
       "  <tbody>\n",
       "    <tr>\n",
       "      <td>0</td>\n",
       "      <td>The Bronx</td>\n",
       "      <td>1,418,207</td>\n",
       "      <td>33,867</td>\n",
       "    </tr>\n",
       "    <tr>\n",
       "      <td>1</td>\n",
       "      <td>Brooklyn</td>\n",
       "      <td>2,559,903</td>\n",
       "      <td>36,147</td>\n",
       "    </tr>\n",
       "    <tr>\n",
       "      <td>2</td>\n",
       "      <td>Manhattan</td>\n",
       "      <td>1,628,706</td>\n",
       "      <td>71,341</td>\n",
       "    </tr>\n",
       "    <tr>\n",
       "      <td>3</td>\n",
       "      <td>Queens</td>\n",
       "      <td>2,253,858</td>\n",
       "      <td>20,767</td>\n",
       "    </tr>\n",
       "    <tr>\n",
       "      <td>4</td>\n",
       "      <td>Staten Island</td>\n",
       "      <td>476,143</td>\n",
       "      <td>8,157</td>\n",
       "    </tr>\n",
       "  </tbody>\n",
       "</table>\n",
       "</div>"
      ],
      "text/plain": [
       "         Borough Population Density (persons / sq. mi)\n",
       "0      The Bronx  1,418,207                     33,867\n",
       "1       Brooklyn  2,559,903                     36,147\n",
       "2      Manhattan  1,628,706                     71,341\n",
       "3         Queens  2,253,858                     20,767\n",
       "4  Staten Island    476,143                      8,157"
      ]
     },
     "execution_count": 92,
     "metadata": {},
     "output_type": "execute_result"
    }
   ],
   "source": [
    "#create pandas df\n",
    "population=pd.DataFrame(populationDict,columns=list(populationDict.keys()))\n",
    "\n",
    "#drop all but population and density\n",
    "index=[1,3,4,5,6,8]\n",
    "population.drop(population.columns[index],axis=1,inplace=True)\n",
    "population.rename(columns={'Estimate (2019)[12]':'Population','persons / sq. mi':'Density (persons / sq. mi)'}, inplace=True)\n",
    "population"
   ]
  },
  {
   "cell_type": "code",
   "execution_count": 95,
   "metadata": {},
   "outputs": [
    {
     "name": "stdout",
     "output_type": "stream",
     "text": [
      "<table class=\"wikitable sortable\" style=\"text-align:right;\">\n",
      "<tbody><tr>\n",
      "<th>Area\n",
      "</th>\n",
      "<th><a href=\"/wiki/Household_income_in_the_United_States#Median_income\" title=\"Household income in the United States\">Median<br/>House-<br/>hold<br/>Income</a><br/>\n",
      "</th>\n",
      "<th><a href=\"/wiki/Household_income_in_the_United_States#Mean_income\" title=\"Household income in the United States\">Mean<br/>House-<br/>hold<br/>Income</a><br/>\n",
      "</th>\n",
      "<th>Percent-<br/>age in <br/>Poverty\n",
      "</th></tr>\n",
      "<tr>\n",
      "<td><a href=\"/wiki/The_Bronx\" title=\"The Bronx\">The Bronx</a>\n",
      "</td>\n",
      "<td>$34,156\n",
      "</td>\n",
      "<td>$46,298\n",
      "</td>\n",
      "<td>27.1%\n",
      "</td></tr>\n",
      "<tr>\n",
      "<td><a href=\"/wiki/Brooklyn\" title=\"Brooklyn\">Brooklyn</a>\n",
      "</td>\n",
      "<td>$41,406\n",
      "</td>\n",
      "<td>$60,020\n",
      "</td>\n",
      "<td>21.9%\n",
      "</td></tr>\n",
      "<tr>\n",
      "<td><a href=\"/wiki/Manhattan\" title=\"Manhattan\">Manhattan</a>\n",
      "</td>\n",
      "<td>$64,217\n",
      "</td>\n",
      "<td>$121,549\n",
      "</td>\n",
      "<td>17.6%\n",
      "</td></tr>\n",
      "<tr>\n",
      "<td><a href=\"/wiki/Queens\" title=\"Queens\">Queens</a>\n",
      "</td>\n",
      "<td>$53,171\n",
      "</td>\n",
      "<td>$67,027\n",
      "</td>\n",
      "<td>12.0%\n",
      "</td></tr>\n",
      "<tr>\n",
      "<td><a href=\"/wiki/Staten_Island\" title=\"Staten Island\">Staten Island</a>\n",
      "</td>\n",
      "<td>$66,985\n",
      "</td>\n",
      "<td>$81,498\n",
      "</td>\n",
      "<td>9.8%\n",
      "</td></tr>\n",
      "<tr bgcolor=\"eeffee\">\n",
      "<td><a href=\"/wiki/New_York_City\" title=\"New York City\">New York City</a>\n",
      "</td>\n",
      "<td>$48,631\n",
      "</td>\n",
      "<td>$75,809\n",
      "</td>\n",
      "<td>18.5%\n",
      "</td></tr>\n",
      "<tr bgcolor=\"ddeedd\">\n",
      "<td><a class=\"mw-redirect\" href=\"/wiki/New_York_State\" title=\"New York State\">New York State</a>\n",
      "</td>\n",
      "<td>$53,514\n",
      "</td>\n",
      "<td>$77,865\n",
      "</td>\n",
      "<td>13.7%\n",
      "</td></tr>\n",
      "<tr bgcolor=\"ccddcc\">\n",
      "<td><a href=\"/wiki/United_States\" title=\"United States\">United States</a>\n",
      "</td>\n",
      "<td>$50,140\n",
      "</td>\n",
      "<td>$69,193\n",
      "</td>\n",
      "<td>13.0%\n",
      "</td></tr></tbody></table>\n"
     ]
    }
   ],
   "source": [
    "#income\n",
    "print(tables[6])"
   ]
  },
  {
   "cell_type": "code",
   "execution_count": null,
   "metadata": {},
   "outputs": [],
   "source": []
  }
 ],
 "metadata": {
  "kernelspec": {
   "display_name": "Python 3",
   "language": "python",
   "name": "python3"
  },
  "language_info": {
   "codemirror_mode": {
    "name": "ipython",
    "version": 3
   },
   "file_extension": ".py",
   "mimetype": "text/x-python",
   "name": "python",
   "nbconvert_exporter": "python",
   "pygments_lexer": "ipython3",
   "version": "3.7.4"
  }
 },
 "nbformat": 4,
 "nbformat_minor": 2
}
